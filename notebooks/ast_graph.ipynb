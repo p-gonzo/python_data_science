{
 "cells": [
  {
   "cell_type": "code",
   "execution_count": 1,
   "metadata": {},
   "outputs": [],
   "source": [
    "import numpy as np\n",
    "import matplotlib.pyplot as plt\n",
    "from sklearn.datasets import make_blobs\n",
    "from jupyterthemes import jtplot\n",
    "jtplot.style()"
   ]
  },
  {
   "cell_type": "code",
   "execution_count": 2,
   "metadata": {},
   "outputs": [],
   "source": [
    "class Operation():\n",
    "    def __init__(self, input_nodes=[]):\n",
    "        self.input_nodes = input_nodes\n",
    "        self.inputs = []\n",
    "        self.output = None\n"
   ]
  },
  {
   "cell_type": "code",
   "execution_count": 3,
   "metadata": {},
   "outputs": [],
   "source": [
    "class add(Operation):\n",
    "    def __init__(self, x, y):\n",
    "        super().__init__([x,y])\n",
    "        \n",
    "    def compute(self, x_var, y_var):\n",
    "        return x_var + y_var"
   ]
  },
  {
   "cell_type": "code",
   "execution_count": 4,
   "metadata": {},
   "outputs": [],
   "source": [
    "class multiply(Operation):\n",
    "    def __init__(self, x, y):\n",
    "        super().__init__([x,y])\n",
    "        \n",
    "    def compute(self, x_var, y_var):\n",
    "        return x_var * y_var"
   ]
  },
  {
   "cell_type": "code",
   "execution_count": 5,
   "metadata": {},
   "outputs": [],
   "source": [
    "class matmul(Operation):\n",
    "    def __init__(self, x, y):\n",
    "        super().__init__([x,y])\n",
    "    \n",
    "    def compute(self, x_var, y_var):\n",
    "        return x_var.dot(y_var)"
   ]
  },
  {
   "cell_type": "code",
   "execution_count": 6,
   "metadata": {},
   "outputs": [],
   "source": [
    "class sigmoid(Operation):\n",
    "    def __init__(self, z):\n",
    "        super().__init__([z])\n",
    "    def compute(self, z_var):\n",
    "        return 1 / (1 + np.exp(-z_var))"
   ]
  },
  {
   "cell_type": "code",
   "execution_count": 7,
   "metadata": {},
   "outputs": [],
   "source": [
    "class Placeholder():\n",
    "    def __init__(self):\n",
    "        self.output = None"
   ]
  },
  {
   "cell_type": "code",
   "execution_count": 8,
   "metadata": {},
   "outputs": [],
   "source": [
    "class Variable():\n",
    "    def __init__(self, initial_value=None):\n",
    "        self.value = initial_value\n",
    "        self.output = None"
   ]
  },
  {
   "cell_type": "code",
   "execution_count": 9,
   "metadata": {},
   "outputs": [],
   "source": [
    "def traverse_postorder(operation):\n",
    "    nodes_postorder = []\n",
    "    \n",
    "    def recurse(node):\n",
    "        if isinstance(node, Operation):\n",
    "            for input_node in node.input_nodes:\n",
    "                recurse(input_node)\n",
    "        nodes_postorder.append(node)\n",
    "    \n",
    "    recurse(operation)\n",
    "    return nodes_postorder"
   ]
  },
  {
   "cell_type": "code",
   "execution_count": 10,
   "metadata": {},
   "outputs": [],
   "source": [
    "class Session():\n",
    "    \n",
    "    def run(self, operation, feed_dict={}):\n",
    "        for node in traverse_postorder(operation):\n",
    "            if isinstance(node, Placeholder):\n",
    "                node.output = feed_dict[node]\n",
    "            elif isinstance(node, Variable):\n",
    "                node.output = node.value\n",
    "            else: #Operation\n",
    "                node.inputs = [input_node.output for input_node in node.input_nodes]\n",
    "                node.output = node.compute(*node.inputs)\n",
    "\n",
    "            if type(node.output) == list:\n",
    "                node.output = np.array(node.output)\n",
    "            print(node, node.output)\n",
    "        return operation.output"
   ]
  },
  {
   "cell_type": "markdown",
   "metadata": {},
   "source": [
    "z = Ax + b\n",
    "\n",
    "A = 10\n",
    "\n",
    "b = 1\n",
    "\n",
    "z = 10x + 1"
   ]
  },
  {
   "cell_type": "code",
   "execution_count": 11,
   "metadata": {},
   "outputs": [],
   "source": [
    "A = Variable(10)\n",
    "b = Variable(1)\n",
    "x = Placeholder()\n",
    "\n",
    "y = multiply(A, x)\n",
    "z = add(y, b)"
   ]
  },
  {
   "cell_type": "code",
   "execution_count": 13,
   "metadata": {},
   "outputs": [
    {
     "name": "stdout",
     "output_type": "stream",
     "text": [
      "<__main__.Variable object at 0x120bc2208> 10\n",
      "<__main__.Placeholder object at 0x120bc2198> 10\n",
      "<__main__.multiply object at 0x120bc2160> 100\n",
      "<__main__.Variable object at 0x120bc2320> 1\n",
      "<__main__.add object at 0x120bc2390> 101\n"
     ]
    },
    {
     "data": {
      "text/plain": [
       "101"
      ]
     },
     "execution_count": 13,
     "metadata": {},
     "output_type": "execute_result"
    }
   ],
   "source": [
    "sess = Session()\n",
    "sess.run(operation=z, feed_dict={x:10})"
   ]
  },
  {
   "cell_type": "code",
   "execution_count": 14,
   "metadata": {},
   "outputs": [
    {
     "name": "stdout",
     "output_type": "stream",
     "text": [
      "<__main__.Variable object at 0x120bc81d0> [[10 20]\n",
      " [30 40]]\n",
      "<__main__.Placeholder object at 0x120bc8208> 10\n",
      "<__main__.matmul object at 0x120bc8278> [[100 200]\n",
      " [300 400]]\n",
      "<__main__.Variable object at 0x120bc8160> [1 1]\n",
      "<__main__.add object at 0x120bc82b0> [[101 201]\n",
      " [301 401]]\n"
     ]
    },
    {
     "data": {
      "text/plain": [
       "array([[101, 201],\n",
       "       [301, 401]])"
      ]
     },
     "execution_count": 14,
     "metadata": {},
     "output_type": "execute_result"
    }
   ],
   "source": [
    "A = Variable([[10, 20],[30,40]])\n",
    "b = Variable([1,1])\n",
    "x = Placeholder()\n",
    "\n",
    "y = matmul(A,x)\n",
    "z = add(y,b)\n",
    "\n",
    "Sess = Session()\n",
    "sess.run(z, {x:10})"
   ]
  },
  {
   "cell_type": "code",
   "execution_count": 15,
   "metadata": {
    "scrolled": true
   },
   "outputs": [
    {
     "data": {
      "text/plain": [
       "[<matplotlib.lines.Line2D at 0x10f53ab38>]"
      ]
     },
     "execution_count": 15,
     "metadata": {},
     "output_type": "execute_result"
    },
    {
     "data": {
      "image/png": "[encoded data removed]",
      "text/plain": [
       "<Figure size 432x288 with 1 Axes>"
      ]
     },
     "metadata": {
      "needs_background": "dark"
     },
     "output_type": "display_data"
    }
   ],
   "source": [
    "data = make_blobs(n_samples=50, n_features=2,centers=2,random_state=75)\n",
    "features = data[0]\n",
    "lables = data[1]\n",
    "plt.scatter(features[:, 0], features[:,1],c=lables)\n",
    "\n",
    "x = np.linspace(0, 11, 10)\n",
    "y = - x + 5 # We're gonna divide our two blobs here\n",
    "plt.plot(x, y)"
   ]
  },
  {
   "cell_type": "markdown",
   "metadata": {},
   "source": [
    "Now let's use our classifier w/ our sigmoid func to predict if a data point is part of the yellow or purlpe group:\n",
    "\n",
    "- Y = Mx + b\n",
    "- Y = -1x + 5\n",
    "- OR:\n",
    "- f2 = -(f1) + 5\n",
    "- f2 + f1 - 5 = 0\n",
    "- `[[f2],[f1]][1,1] -5 = 0` # Matrix Representation"
   ]
  },
  {
   "cell_type": "markdown",
   "metadata": {},
   "source": [
    "Purple Group point: 2, -10:"
   ]
  },
  {
   "cell_type": "code",
   "execution_count": 16,
   "metadata": {},
   "outputs": [
    {
     "data": {
      "text/plain": [
       "array([-13])"
      ]
     },
     "execution_count": 16,
     "metadata": {},
     "output_type": "execute_result"
    }
   ],
   "source": [
    "np.array([1,1]).dot(np.array([[2],[-10]])) - 5"
   ]
  },
  {
   "cell_type": "code",
   "execution_count": 17,
   "metadata": {},
   "outputs": [
    {
     "name": "stdout",
     "output_type": "stream",
     "text": [
      "<__main__.Variable object at 0x120bc2518> [1 1]\n",
      "<__main__.Placeholder object at 0x120bc20b8> [[  2]\n",
      " [-10]]\n",
      "<__main__.matmul object at 0x120bc2e48> [-8]\n",
      "<__main__.Variable object at 0x120bc2d30> -5\n",
      "<__main__.add object at 0x122ce84e0> [-13]\n"
     ]
    },
    {
     "data": {
      "text/plain": [
       "array([-13])"
      ]
     },
     "execution_count": 17,
     "metadata": {},
     "output_type": "execute_result"
    }
   ],
   "source": [
    "#Doing the same with our classifier logic:\n",
    "x = Placeholder() # Our two points\n",
    "w = Variable([1,1]) # Our weights\n",
    "b = Variable(-5) # Our bias\n",
    "z = add(matmul(w, x), b)\n",
    "sess = Session()\n",
    "sess.run(z, feed_dict={x: np.array([[2],[-10]])})"
   ]
  },
  {
   "cell_type": "code",
   "execution_count": 18,
   "metadata": {},
   "outputs": [
    {
     "name": "stdout",
     "output_type": "stream",
     "text": [
      "<__main__.Variable object at 0x120bc2518> [1 1]\n",
      "<__main__.Placeholder object at 0x120bc20b8> [[  2]\n",
      " [-10]]\n",
      "<__main__.matmul object at 0x120bc2e48> [-8]\n",
      "<__main__.Variable object at 0x120bc2d30> -5\n",
      "<__main__.add object at 0x122ce84e0> [-13]\n",
      "<__main__.sigmoid object at 0x120bc2908> [2.2603243e-06]\n"
     ]
    },
    {
     "data": {
      "text/plain": [
       "array([2.2603243e-06])"
      ]
     },
     "execution_count": 18,
     "metadata": {},
     "output_type": "execute_result"
    }
   ],
   "source": [
    "#Now adding in our sigmoid function:\n",
    "a = sigmoid(z)\n",
    "sess = Session()\n",
    "sess.run(a, feed_dict={x: np.array([[2],[-10]])})"
   ]
  },
  {
   "cell_type": "code",
   "execution_count": 19,
   "metadata": {},
   "outputs": [],
   "source": [
    "# The result is very close to zero, meaning it is likely in the purple group"
   ]
  },
  {
   "cell_type": "code",
   "execution_count": 20,
   "metadata": {},
   "outputs": [
    {
     "name": "stdout",
     "output_type": "stream",
     "text": [
      "<__main__.Variable object at 0x120bc2518> [1 1]\n",
      "<__main__.Placeholder object at 0x120bc20b8> [[ 8]\n",
      " [10]]\n",
      "<__main__.matmul object at 0x120bc2e48> [18]\n",
      "<__main__.Variable object at 0x120bc2d30> -5\n",
      "<__main__.add object at 0x122ce84e0> [13]\n",
      "<__main__.sigmoid object at 0x120bc2908> [0.99999774]\n"
     ]
    },
    {
     "data": {
      "text/plain": [
       "array([0.99999774])"
      ]
     },
     "execution_count": 20,
     "metadata": {},
     "output_type": "execute_result"
    }
   ],
   "source": [
    "# Trying now with a yellow member:\n",
    "sess.run(a, feed_dict={x: np.array([[8],[10]])})"
   ]
  },
  {
   "cell_type": "code",
   "execution_count": null,
   "metadata": {},
   "outputs": [],
   "source": []
  }
 ],
 "metadata": {
  "kernelspec": {
   "display_name": "Python 3",
   "language": "python",
   "name": "python3"
  },
  "language_info": {
   "codemirror_mode": {
    "name": "ipython",
    "version": 3
   },
   "file_extension": ".py",
   "mimetype": "text/x-python",
   "name": "python",
   "nbconvert_exporter": "python",
   "pygments_lexer": "ipython3",
   "version": "3.6.5"
  }
 },
 "nbformat": 4,
 "nbformat_minor": 2
}
