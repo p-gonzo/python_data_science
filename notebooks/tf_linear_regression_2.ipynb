{
 "cells": [
  {
   "cell_type": "code",
   "execution_count": 2,
   "metadata": {},
   "outputs": [],
   "source": [
    "import tensorflow as tf\n",
    "import numpy as np\n",
    "from pandas import DataFrame as df\n",
    "import matplotlib.pyplot as plt\n",
    "from jupyterthemes import jtplot\n",
    "jtplot.style()"
   ]
  },
  {
   "cell_type": "code",
   "execution_count": 8,
   "metadata": {},
   "outputs": [],
   "source": [
    "x = np.linspace(0, 50, 50) \n",
    "y = np.linspace(0, 50, 50) \n",
    "  \n",
    "x += np.random.uniform(-7, 7, 50) \n",
    "y += np.random.uniform(-7, 7, 50) \n",
    "  \n",
    "n = len(x)"
   ]
  },
  {
   "cell_type": "code",
   "execution_count": 9,
   "metadata": {},
   "outputs": [
    {
     "data": {
      "image/png": "[encoded data removed]",
      "text/plain": [
       "<Figure size 460.8x403.2 with 1 Axes>"
      ]
     },
     "metadata": {},
     "output_type": "display_data"
    }
   ],
   "source": [
    "plt.scatter(x, y) \n",
    "plt.xlabel('x') \n",
    "plt.ylabel('y') \n",
    "plt.title(\"Training Data\") \n",
    "plt.show()"
   ]
  },
  {
   "cell_type": "code",
   "execution_count": 12,
   "metadata": {},
   "outputs": [
    {
     "name": "stdout",
     "output_type": "stream",
     "text": [
      "WARNING:tensorflow:From /Users/phil/.local/share/virtualenvs/neural_networks-7dtejGdV/lib/python3.6/site-packages/tensorflow/python/framework/op_def_library.py:263: colocate_with (from tensorflow.python.framework.ops) is deprecated and will be removed in a future version.\n",
      "Instructions for updating:\n",
      "Colocations handled automatically by placer.\n"
     ]
    }
   ],
   "source": [
    "X = tf.placeholder(\"float\") \n",
    "Y = tf.placeholder(\"float\") \n",
    "W = tf.Variable(np.random.randn(), name = \"W\") \n",
    "b = tf.Variable(np.random.randn(), name = \"b\")"
   ]
  },
  {
   "cell_type": "code",
   "execution_count": 13,
   "metadata": {},
   "outputs": [],
   "source": [
    "learning_rate = 0.01\n",
    "training_epochs = 1000"
   ]
  },
  {
   "cell_type": "code",
   "execution_count": 14,
   "metadata": {
    "scrolled": true
   },
   "outputs": [
    {
     "name": "stdout",
     "output_type": "stream",
     "text": [
      "WARNING:tensorflow:From /Users/phil/.local/share/virtualenvs/neural_networks-7dtejGdV/lib/python3.6/site-packages/tensorflow/python/ops/math_ops.py:3066: to_int32 (from tensorflow.python.ops.math_ops) is deprecated and will be removed in a future version.\n",
      "Instructions for updating:\n",
      "Use tf.cast instead.\n"
     ]
    }
   ],
   "source": [
    "# Hypothesis \n",
    "y_pred = tf.add(tf.multiply(X, W), b) \n",
    "  \n",
    "# Mean Squared Error Cost Function \n",
    "cost = tf.reduce_sum(tf.pow(y_pred-Y, 2)) / (2 * n) \n",
    "  \n",
    "# Gradient Descent Optimizer \n",
    "optimizer = tf.train.GradientDescentOptimizer(learning_rate).minimize(cost) \n",
    "  \n",
    "# Global Variables Initializer \n",
    "init = tf.global_variables_initializer()"
   ]
  },
  {
   "cell_type": "code",
   "execution_count": 16,
   "metadata": {},
   "outputs": [
    {
     "name": "stdout",
     "output_type": "stream",
     "text": [
      "Epoch 50 : cost = 21.768196 W = 1.0570217 b = 0.7879488\n",
      "Epoch 100 : cost = 21.559416 W = 1.0609522 b = 0.60675126\n",
      "Epoch 150 : cost = 21.378855 W = 1.0645105 b = 0.4427155\n",
      "Epoch 200 : cost = 21.22231 W = 1.0677316 b = 0.29421702\n",
      "Epoch 250 : cost = 21.086262 W = 1.0706477 b = 0.15978311\n",
      "Epoch 300 : cost = 20.967749 W = 1.0732877 b = 0.038081605\n",
      "Epoch 350 : cost = 20.86426 W = 1.0756775 b = -0.07209331\n",
      "Epoch 400 : cost = 20.773695 W = 1.077841 b = -0.1718332\n",
      "Epoch 450 : cost = 20.694267 W = 1.0797997 b = -0.2621264\n",
      "Epoch 500 : cost = 20.624468 W = 1.0815729 b = -0.34386814\n",
      "Epoch 550 : cost = 20.562983 W = 1.083178 b = -0.4178678\n",
      "Epoch 600 : cost = 20.508738 W = 1.0846312 b = -0.484858\n",
      "Epoch 650 : cost = 20.460781 W = 1.0859467 b = -0.54550296\n",
      "Epoch 700 : cost = 20.41831 W = 1.0871376 b = -0.60040426\n",
      "Epoch 750 : cost = 20.380634 W = 1.0882157 b = -0.6501084\n",
      "Epoch 800 : cost = 20.347164 W = 1.0891918 b = -0.69510466\n",
      "Epoch 850 : cost = 20.317387 W = 1.0900754 b = -0.7358385\n",
      "Epoch 900 : cost = 20.290857 W = 1.0908753 b = -0.77271247\n",
      "Epoch 950 : cost = 20.267193 W = 1.0915995 b = -0.8060955\n",
      "Epoch 1000 : cost = 20.246044 W = 1.0922549 b = -0.83631665\n"
     ]
    }
   ],
   "source": [
    "# Starting the Tensorflow Session \n",
    "with tf.Session() as sess: \n",
    "      \n",
    "    # Initializing the Variables \n",
    "    sess.run(init) \n",
    "      \n",
    "    # Iterating through all the epochs \n",
    "    for epoch in range(training_epochs): \n",
    "          \n",
    "        # Feeding each data point into the optimizer using Feed Dictionary \n",
    "        for (_x, _y) in zip(x, y): \n",
    "            sess.run(optimizer, feed_dict = {X : _x, Y : _y}) \n",
    "        \n",
    "        # Displaying the result after every 50 epochs \n",
    "        if (epoch + 1) % 50 == 0: \n",
    "            # Calculating the cost a every epoch \n",
    "            c = sess.run(cost, feed_dict = {X : x, Y : y}) \n",
    "            print(\"Epoch\", (epoch + 1), \": cost =\", c, \"W =\", sess.run(W), \"b =\", sess.run(b))\n",
    "            \n",
    "    # Storing necessary values to be used outside the Session \n",
    "    training_cost = sess.run(cost, feed_dict ={X: x, Y: y}) \n",
    "    weight = sess.run(W) \n",
    "    bias = sess.run(b) "
   ]
  },
  {
   "cell_type": "code",
   "execution_count": 19,
   "metadata": {},
   "outputs": [],
   "source": [
    "predictions = weight * x + bias"
   ]
  },
  {
   "cell_type": "code",
   "execution_count": 20,
   "metadata": {},
   "outputs": [
    {
     "data": {
      "image/png": "[encoded data removed]",
      "text/plain": [
       "<Figure size 460.8x403.2 with 1 Axes>"
      ]
     },
     "metadata": {},
     "output_type": "display_data"
    }
   ],
   "source": [
    "plt.plot(x, y, 'ro', label ='Original data') \n",
    "plt.plot(x, predictions, label ='Fitted line') \n",
    "plt.title('Linear Regression Result') \n",
    "plt.legend() \n",
    "plt.show() "
   ]
  },
  {
   "cell_type": "code",
   "execution_count": null,
   "metadata": {},
   "outputs": [],
   "source": []
  }
 ],
 "metadata": {
  "kernelspec": {
   "display_name": "Python 3",
   "language": "python",
   "name": "python3"
  },
  "language_info": {
   "codemirror_mode": {
    "name": "ipython",
    "version": 3
   },
   "file_extension": ".py",
   "mimetype": "text/x-python",
   "name": "python",
   "nbconvert_exporter": "python",
   "pygments_lexer": "ipython3",
   "version": "3.6.5"
  }
 },
 "nbformat": 4,
 "nbformat_minor": 2
}
