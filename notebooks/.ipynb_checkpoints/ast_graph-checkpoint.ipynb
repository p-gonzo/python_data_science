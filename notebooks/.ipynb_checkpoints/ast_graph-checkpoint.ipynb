{
 "cells": [
  {
   "cell_type": "code",
   "execution_count": 1,
   "metadata": {},
   "outputs": [],
   "source": [
    "import numpy as np"
   ]
  },
  {
   "cell_type": "code",
   "execution_count": 2,
   "metadata": {},
   "outputs": [],
   "source": [
    "class Operation():\n",
    "    def __init__(self, input_nodes=[]):\n",
    "        self.input_nodes = input_nodes\n",
    "        self.inputs = []\n",
    "        self.output = None\n"
   ]
  },
  {
   "cell_type": "code",
   "execution_count": 3,
   "metadata": {},
   "outputs": [],
   "source": [
    "class add(Operation):\n",
    "    def __init__(self, x, y):\n",
    "        super().__init__([x,y])\n",
    "        \n",
    "    def compute(self, x_var, y_var):\n",
    "        self.inputs = [x_var, y_var]\n",
    "        return x_var + y_var"
   ]
  },
  {
   "cell_type": "code",
   "execution_count": 4,
   "metadata": {},
   "outputs": [],
   "source": [
    "class multiply(Operation):\n",
    "    def __init__(self, x, y):\n",
    "        super().__init__([x,y])\n",
    "        \n",
    "    def compute(self, x_var, y_var):\n",
    "        self.inputs = [x_var, y_var]\n",
    "        return x_var * y_var"
   ]
  },
  {
   "cell_type": "code",
   "execution_count": 5,
   "metadata": {},
   "outputs": [],
   "source": [
    "class matmul(Operation):\n",
    "    def __init__(self, x, y):\n",
    "        super().__init__([x,y])\n",
    "        \n",
    "    def compute(self, x_var, y_var):\n",
    "        self.inputs = [x_var, y_var]\n",
    "        return x_var.dot(y_var)"
   ]
  },
  {
   "cell_type": "code",
   "execution_count": 6,
   "metadata": {},
   "outputs": [],
   "source": [
    "class Placeholder():\n",
    "    def __init__(self):\n",
    "        pass"
   ]
  },
  {
   "cell_type": "code",
   "execution_count": 7,
   "metadata": {},
   "outputs": [],
   "source": [
    "class Variable():\n",
    "    def __init__(self, initial_value=None):\n",
    "        self.value = initial_value"
   ]
  },
  {
   "cell_type": "markdown",
   "metadata": {},
   "source": [
    "z = Ax + b\n",
    "\n",
    "A = 10\n",
    "\n",
    "b = 1\n",
    "\n",
    "z = 10x + 1"
   ]
  },
  {
   "cell_type": "code",
   "execution_count": 8,
   "metadata": {},
   "outputs": [],
   "source": [
    "A = Variable(10)\n",
    "b = Variable(1)\n",
    "x = Placeholder()"
   ]
  },
  {
   "cell_type": "code",
   "execution_count": 9,
   "metadata": {},
   "outputs": [],
   "source": [
    "y = multiply(A, x)\n",
    "z = add(y, b)"
   ]
  },
  {
   "cell_type": "code",
   "execution_count": 10,
   "metadata": {},
   "outputs": [],
   "source": [
    "def traverse_postorder(operation):\n",
    "    nodes_postorder = []\n",
    "    \n",
    "    def recurse(node):\n",
    "        if isinstance(node, Operation):\n",
    "            for input_node in node.input_nodes:\n",
    "                recurse(input_node)\n",
    "        nodes_postorder.append(node)\n",
    "    \n",
    "    recurse(operation)\n",
    "    return nodes_postorder"
   ]
  },
  {
   "cell_type": "code",
   "execution_count": 11,
   "metadata": {},
   "outputs": [
    {
     "name": "stdout",
     "output_type": "stream",
     "text": [
      "<__main__.Variable object at 0x1097b04e0> 10\n",
      "<__main__.Placeholder object at 0x1097b0518>\n",
      "<__main__.multiply object at 0x1097b0470>\n",
      "<__main__.Variable object at 0x1097b04a8> 1\n",
      "<__main__.add object at 0x1097b0550>\n"
     ]
    }
   ],
   "source": [
    "for node in traverse_postorder(z):\n",
    "    if isinstance(node, Variable):\n",
    "        print(node, node.value)\n",
    "    else:\n",
    "        print(node)"
   ]
  },
  {
   "cell_type": "code",
   "execution_count": 12,
   "metadata": {},
   "outputs": [],
   "source": [
    "class Session():\n",
    "    \n",
    "    def run(self, operation, feed_dict={}):\n",
    "        for node in traverse_postorder(operation):\n",
    "            if isinstance(node, Placeholder):\n",
    "                node.output = feed_dict[node]\n",
    "            elif isinstance(node, Variable):\n",
    "                node.output = node.value\n",
    "            else: #Operation\n",
    "                node.inputs = [input_node.output for input_node in node.input_nodes]\n",
    "                node.output = node.compute(*node.inputs)\n",
    "\n",
    "            if type(node.output) == list:\n",
    "                node.output = np.array(node.output)\n",
    "        return operation.output"
   ]
  },
  {
   "cell_type": "code",
   "execution_count": 13,
   "metadata": {},
   "outputs": [],
   "source": [
    "sess = Session()"
   ]
  },
  {
   "cell_type": "code",
   "execution_count": 14,
   "metadata": {},
   "outputs": [],
   "source": [
    "result = sess.run(operation=z, feed_dict={x:10})"
   ]
  },
  {
   "cell_type": "code",
   "execution_count": 15,
   "metadata": {},
   "outputs": [
    {
     "data": {
      "text/plain": [
       "101"
      ]
     },
     "execution_count": 15,
     "metadata": {},
     "output_type": "execute_result"
    }
   ],
   "source": [
    "result"
   ]
  }
 ],
 "metadata": {
  "kernelspec": {
   "display_name": "Python 3",
   "language": "python",
   "name": "python3"
  },
  "language_info": {
   "codemirror_mode": {
    "name": "ipython",
    "version": 3
   },
   "file_extension": ".py",
   "mimetype": "text/x-python",
   "name": "python",
   "nbconvert_exporter": "python",
   "pygments_lexer": "ipython3",
   "version": "3.6.5"
  }
 },
 "nbformat": 4,
 "nbformat_minor": 2
}
