{
 "cells": [
  {
   "cell_type": "code",
   "execution_count": 1,
   "metadata": {},
   "outputs": [],
   "source": [
    "import numpy as np"
   ]
  },
  {
   "cell_type": "code",
   "execution_count": 2,
   "metadata": {},
   "outputs": [
    {
     "name": "stdout",
     "output_type": "stream",
     "text": [
      "WARNING:tensorflow:From /Users/phil/.local/share/virtualenvs/neural_networks-7dtejGdV/lib/python3.6/site-packages/tensorflow/python/ops/resource_variable_ops.py:435: colocate_with (from tensorflow.python.framework.ops) is deprecated and will be removed in a future version.\n",
      "Instructions for updating:\n",
      "Colocations handled automatically by placer.\n"
     ]
    }
   ],
   "source": [
    "import tensorflow as tf\n",
    "\n",
    "inputs = tf.keras.Input(shape=(3,))\n",
    "x = tf.keras.layers.Dense(8, activation=tf.nn.relu)(inputs)\n",
    "outputs = tf.keras.layers.Dense(2, activation=tf.nn.softmax)(x)\n",
    "model = tf.keras.Model(inputs=inputs, outputs=outputs)"
   ]
  },
  {
   "cell_type": "code",
   "execution_count": 3,
   "metadata": {},
   "outputs": [
    {
     "data": {
      "text/plain": [
       "array([[0.8604668 , 0.13953328]], dtype=float32)"
      ]
     },
     "execution_count": 3,
     "metadata": {},
     "output_type": "execute_result"
    }
   ],
   "source": [
    "model.predict(np.array([[1,2,3]]))"
   ]
  },
  {
   "cell_type": "code",
   "execution_count": 4,
   "metadata": {},
   "outputs": [
    {
     "data": {
      "text/plain": [
       "array([[0.86398476, 0.13601527]], dtype=float32)"
      ]
     },
     "execution_count": 4,
     "metadata": {},
     "output_type": "execute_result"
    }
   ],
   "source": [
    "model.predict(np.array([[2,2,3]]))"
   ]
  },
  {
   "cell_type": "code",
   "execution_count": 5,
   "metadata": {},
   "outputs": [
    {
     "data": {
      "text/plain": [
       "array([[0.858405  , 0.14159508]], dtype=float32)"
      ]
     },
     "execution_count": 5,
     "metadata": {},
     "output_type": "execute_result"
    }
   ],
   "source": [
    "model.predict(np.array([[3,2,3]]))"
   ]
  },
  {
   "cell_type": "code",
   "execution_count": 6,
   "metadata": {},
   "outputs": [
    {
     "data": {
      "text/plain": [
       "array([[0.85263526, 0.14736466]], dtype=float32)"
      ]
     },
     "execution_count": 6,
     "metadata": {},
     "output_type": "execute_result"
    }
   ],
   "source": [
    "model.predict(np.array([[4,2,3]]))"
   ]
  },
  {
   "cell_type": "code",
   "execution_count": 46,
   "metadata": {},
   "outputs": [],
   "source": [
    "x = model.get_weights()"
   ]
  },
  {
   "cell_type": "code",
   "execution_count": 47,
   "metadata": {},
   "outputs": [],
   "source": [
    "from copy import deepcopy"
   ]
  },
  {
   "cell_type": "code",
   "execution_count": 48,
   "metadata": {},
   "outputs": [],
   "source": [
    "y = deepcopy(x)"
   ]
  },
  {
   "cell_type": "code",
   "execution_count": 49,
   "metadata": {},
   "outputs": [],
   "source": [
    "def recursively_mutate(obj):\n",
    "    for item_idx, item in enumerate(obj):\n",
    "        if isinstance(item, (list, np.ndarray)):\n",
    "            recursively_mutate(item)\n",
    "        else:\n",
    "            if np.random.random() < 0.1\n",
    "            obj[item_idx] = item + np.random.normal(scale=.5)\n",
    "recursively_mutate(y)"
   ]
  },
  {
   "cell_type": "code",
   "execution_count": 50,
   "metadata": {},
   "outputs": [
    {
     "data": {
      "text/plain": [
       "[array([[ 4.15396273e-01,  4.60755646e-01,  3.07006538e-01,\n",
       "         -4.25934792e-04, -7.45165348e-02,  4.71733272e-01,\n",
       "          6.93435967e-01, -4.45145637e-01],\n",
       "        [ 5.29005587e-01, -3.48062366e-01,  8.08879733e-02,\n",
       "          2.20471025e-02, -1.19982600e-01,  1.96985304e-01,\n",
       "          7.37769186e-01,  5.65353215e-01],\n",
       "        [ 1.80676401e-01,  1.11795425e-01, -6.56679869e-02,\n",
       "         -3.75116765e-01,  7.37333119e-01, -3.55368078e-01,\n",
       "         -7.39595890e-02,  2.39372194e-01]], dtype=float32),\n",
       " array([0., 0., 0., 0., 0., 0., 0., 0.], dtype=float32),\n",
       " array([[-0.33995828, -0.4441351 ],\n",
       "        [-0.15746772,  0.17185032],\n",
       "        [-0.19657189, -0.22794944],\n",
       "        [-0.06723118,  0.677639  ],\n",
       "        [ 0.05599648,  0.18867636],\n",
       "        [-0.74557084, -0.36483705],\n",
       "        [ 0.5080128 , -0.11732906],\n",
       "        [ 0.22676182, -0.24897563]], dtype=float32),\n",
       " array([0., 0.], dtype=float32)]"
      ]
     },
     "execution_count": 50,
     "metadata": {},
     "output_type": "execute_result"
    }
   ],
   "source": [
    "x"
   ]
  },
  {
   "cell_type": "code",
   "execution_count": 51,
   "metadata": {},
   "outputs": [
    {
     "data": {
      "text/plain": [
       "[array([[-0.24695629,  1.1390852 ,  0.33054125, -0.2708655 , -0.6267358 ,\n",
       "          0.17968348, -0.35977703, -0.8561042 ],\n",
       "        [ 0.8238763 , -0.49577987,  0.3127873 ,  0.13202782, -0.07211277,\n",
       "         -0.66642505,  0.39900392,  0.7289156 ],\n",
       "        [-0.24367301,  0.41608894, -0.6640725 ,  0.4392178 ,  1.2755584 ,\n",
       "         -0.19130392, -0.11791217, -0.6749661 ]], dtype=float32),\n",
       " array([ 0.05027135,  0.65280354,  0.1674434 , -0.18447609,  0.44756195,\n",
       "         0.0321788 ,  0.1762846 , -0.91054046], dtype=float32),\n",
       " array([[-0.12593348, -0.7263254 ],\n",
       "        [-0.13604541, -0.7021994 ],\n",
       "        [ 0.46948007, -0.37518263],\n",
       "        [-0.7650868 ,  1.4387196 ],\n",
       "        [-0.19319472, -0.36379424],\n",
       "        [-0.67562   , -1.1630774 ],\n",
       "        [ 0.41381744, -0.68437755],\n",
       "        [-0.94416165, -0.8293946 ]], dtype=float32),\n",
       " array([0.00417015, 0.8940301 ], dtype=float32)]"
      ]
     },
     "execution_count": 51,
     "metadata": {},
     "output_type": "execute_result"
    }
   ],
   "source": [
    "y"
   ]
  },
  {
   "cell_type": "code",
   "execution_count": 53,
   "metadata": {},
   "outputs": [
    {
     "data": {
      "text/plain": [
       "0.5426484954428468"
      ]
     },
     "execution_count": 53,
     "metadata": {},
     "output_type": "execute_result"
    }
   ],
   "source": [
    "np.random.random()"
   ]
  },
  {
   "cell_type": "code",
   "execution_count": null,
   "metadata": {},
   "outputs": [],
   "source": []
  }
 ],
 "metadata": {
  "kernelspec": {
   "display_name": "Python 3",
   "language": "python",
   "name": "python3"
  },
  "language_info": {
   "codemirror_mode": {
    "name": "ipython",
    "version": 3
   },
   "file_extension": ".py",
   "mimetype": "text/x-python",
   "name": "python",
   "nbconvert_exporter": "python",
   "pygments_lexer": "ipython3",
   "version": "3.6.5"
  }
 },
 "nbformat": 4,
 "nbformat_minor": 2
}
